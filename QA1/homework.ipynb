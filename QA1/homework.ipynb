{
 "cells": [
  {
   "cell_type": "code",
   "execution_count": null,
   "metadata": {
    "collapsed": true
   },
   "outputs": [],
   "source": [
    "from PIL import Image, ImageDraw\n",
    "import noises\n",
    "import filters\n",
    "import qualitymethods\n",
    "import matplotlib.pyplot as plt\n"
   ]
  },
  {
   "cell_type": "code",
   "execution_count": null,
   "metadata": {
    "collapsed": true
   },
   "outputs": [],
   "source": [
    "image = Image.open(\"lenna.png\")\n",
    "draw = ImageDraw.Draw(image)\n",
    "width = image.size[0]\n",
    "height = image.size[1]\n",
    "pix = image.load()\n",
    "density = 25\n",
    "# qualitymethods.uik(image, image, 1)\n",
    "noises.salt_noise(image, density)"
   ]
  },
  {
   "cell_type": "code",
   "execution_count": null,
   "metadata": {
    "collapsed": true
   },
   "outputs": [],
   "source": [
    "image = Image.open(\"salt_noise.png\")\n",
    "image1 = Image.open(\"lenna.png\")\n",
    "# print(qualitymethods.uik(image, image1, 1))\n",
    "print(qualitymethods.posh(image, image1))\n",
    "filters.adapt_med_filter(image, 8, 5, 5)\n",
    "# filters.med_filter(image, 3, 3)\n",
    "# filters.average_filter(image, 3, 3)\n",
    "image = Image.open(\"med_ad_filter.png\")\n",
    "# image_med = Image.open(\"med_filter.png\")\n",
    "# image_aver = Image.open(\"average_filter.png\")\n",
    "image1111 = Image.open(\"lenna.png\")\n",
    "# l = qualitymethods.uik(image1111, image, 1)\n",
    "l = qualitymethods.posh(image, image1111)\n",
    "print(l)\n",
    "# l = qualitymethods.posh(image_med, image1111)\n",
    "del draw"
   ]
  }
 ],
 "metadata": {
  "kernelspec": {
   "display_name": "Python 3",
   "language": "python",
   "name": "python3"
  }
 },
 "nbformat": 4,
 "nbformat_minor": 2
}
